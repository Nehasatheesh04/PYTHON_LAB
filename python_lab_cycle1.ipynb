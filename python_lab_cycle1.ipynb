{
  "cells": [
    {
      "cell_type": "markdown",
      "metadata": {
        "id": "view-in-github",
        "colab_type": "text"
      },
      "source": [
        "<a href=\"https://colab.research.google.com/github/Nehasatheesh04/PYTHON_LAB_CYCLE/blob/main/python_lab_cycle1.ipynb\" target=\"_parent\"><img src=\"https://colab.research.google.com/assets/colab-badge.svg\" alt=\"Open In Colab\"/></a>"
      ]
    },
    {
      "cell_type": "code",
      "execution_count": null,
      "metadata": {
        "colab": {
          "base_uri": "https://localhost:8080/"
        },
        "id": "NfhpdEHIXcDw",
        "outputId": "59b1d32c-be93-47ee-8bd2-205b41c34821"
      },
      "outputs": [
        {
          "name": "stdout",
          "output_type": "stream",
          "text": [
            "enter a four digit no=1234\n",
            "the sum of digits= 10\n",
            "the reverse of the no = 4321\n",
            "the difference of no = -5\n"
          ]
        }
      ],
      "source": [
        "#1\n",
        "def sum_of_digits(a):\n",
        "  sum=0\n",
        "  while a>0 :\n",
        "    digits=a%10\n",
        "    sum=sum+digits\n",
        "    a=a//10\n",
        "  return sum\n",
        "\n",
        "def reverse(b):\n",
        "  reverse=0\n",
        "  while b>0:\n",
        "    digits=b%10\n",
        "    reverse=(reverse*10)+digits\n",
        "    b=b//10\n",
        "  return reverse\n",
        "\n",
        "def difference(c):\n",
        "  prodEven=1\n",
        "  prodOdd=1\n",
        "  while c>0:\n",
        "    digits=c%10\n",
        "    prodEven=prodEven*digits\n",
        "    c=c//10\n",
        "\n",
        "    digits=c%10\n",
        "    prodOdd=prodOdd*digits\n",
        "    c=c//10\n",
        "   \n",
        "  diff=prodOdd-prodEven\n",
        "  return diff\n",
        "\n",
        "z=int(input(\"enter a four digit no=\"))\n",
        "s=sum_of_digits(z)\n",
        "r=reverse(z)\n",
        "d=difference(z)\n",
        "print(\"the sum of digits=\",s)\n",
        "print(\"the reverse of the no =\",r)\n",
        "print(\"the difference of no =\",d)"
      ]
    },
    {
      "cell_type": "code",
      "execution_count": null,
      "metadata": {
        "colab": {
          "base_uri": "https://localhost:8080/"
        },
        "id": "2obTL8xxxJPh",
        "outputId": "eb4507a0-5290-4d4b-fd20-ed54909533f6"
      },
      "outputs": [
        {
          "name": "stdout",
          "output_type": "stream",
          "text": [
            "enter side1 of triangle1=3\n",
            "enter side2 of triangle14\n",
            "enter side3 of trinagle1=5\n",
            "enter side1 of triangle2=6\n",
            "enter side2 of triangle2=7\n",
            "enter side3 of triangle2=8\n",
            "area of triangle1= 6.0\n",
            "area of triangle2= 20.33316256758894\n",
            "sum of area of triangles= 26.33316256758894\n",
            "triangle1 area contribution= 22.784957881909886\n",
            "triangle2 area contribution= 77.21504211809011\n"
          ]
        }
      ],
      "source": [
        "#2\n",
        "import math\n",
        "def read_sides():\n",
        "  x1=int(input(\"enter side1 of triangle1=\"))\n",
        "  y1=int(input(\"enter side2 of triangle1\"))\n",
        "  z1=int(input(\"enter side3 of trinagle1=\"))\n",
        "\n",
        "  x2=int(input(\"enter side1 of triangle2=\"))\n",
        "  y2=int(input(\"enter side2 of triangle2=\"))\n",
        "  z2=int(input(\"enter side3 of triangle2=\"))\n",
        "\n",
        "  return x1,y1,z1,x2,y2,z2\n",
        "\n",
        "def find_area (p,q,r):\n",
        "  s=(p+q+r)/2\n",
        "  area=math.sqrt(s*(s-p)*(s-q)*(s-r))\n",
        "  return area\n",
        "\n",
        "a1,b1,c1,a2,b2,c2=read_sides()\n",
        "area_triangle1=find_area(a1,b1,c1)\n",
        "area_triangle2=find_area(a2,b2,c2)\n",
        "\n",
        "print(\"area of triangle1=\",area_triangle1)\n",
        "print(\"area of triangle2=\",area_triangle2)\n",
        "\n",
        "sum=area_triangle1+area_triangle2\n",
        "print(\"sum of area of triangles=\",sum)\n",
        "\n",
        "print(\"triangle1 area contribution=\",(area_triangle1/sum)*100)\n",
        "print(\"triangle2 area contribution=\",(area_triangle2/sum)*100)\n"
      ]
    },
    {
      "cell_type": "code",
      "execution_count": null,
      "metadata": {
        "colab": {
          "base_uri": "https://localhost:8080/"
        },
        "id": "jwmYCNjZWvWN",
        "outputId": "dfc82076-6d80-47e6-9369-6f86cde4a99b"
      },
      "outputs": [
        {
          "name": "stdout",
          "output_type": "stream",
          "text": [
            "Enter the Employee Name=Sidhh\n",
            "Enter your Code=1243\n",
            "Enter your Basic Pay=45000\n",
            "        PAYSLIP        \n",
            "Employee Name=  Sidhh\n",
            "Employee Code=  1243\n",
            "Employee basic pay=  45000\n",
            "Employee DA=  4950.0\n",
            "Employee HRA=  3375.0\n",
            "Employee MA=  5000\n",
            "Employee PT=  60\n",
            "Employee pf=  4950.0\n",
            "Employee IT=  11\n",
            "Employee Gross Salary=  58325.0\n",
            "Employee Deduction=  5021.0\n",
            "Employee Net Salary=  53304.0\n"
          ]
        }
      ],
      "source": [
        "# generating payslip\n",
        "def g_salary(bp,da,hra,ma):\n",
        "  gs=bp+da+hra+ma\n",
        "  return gs\n",
        "def deduction(pt,pf,it):\n",
        "  d=pt+pf+it\n",
        "  return d\n",
        "def n_salary(gs,d):\n",
        "  ns=gs-d\n",
        "  return ns\n",
        "def payslip(empname,code,bpay):\n",
        "  if bpay<10000:\n",
        "    da=(bpay*5)/100\n",
        "    hra=(bpay*2.5)/100\n",
        "    ma=500\n",
        "    pt=20\n",
        "    pf=(bpay*8)/100\n",
        "    it=0\n",
        "  elif bpay>=10000 and bpay<30000:\n",
        "    da=(bpay*7.5)/100\n",
        "    hra=(bpay*5)/100\n",
        "    ma=2500\n",
        "    pt=60\n",
        "    pf=(bpay*8/100)\n",
        "    it=0\n",
        "  elif bpay>=30000 and bpay<50000:\n",
        "    da=(bpay*11)/100\n",
        "    hra=(bpay*7.5)/100\n",
        "    ma=5000\n",
        "    pt=60\n",
        "    pf=(bpay*11)/100\n",
        "    it=11\n",
        "  else:\n",
        "    da=(bpay*25)/100\n",
        "    hra=(bpay*11)/100\n",
        "    ma=7000\n",
        "    pt=80\n",
        "    pf=(bpay*12)/100\n",
        "    it=20\n",
        "\n",
        "  gross_salary=g_salary(bpay,da,hra,ma)\n",
        "  deduct=deduction(pt,pf,it)\n",
        "  net_salary=n_salary(gross_salary,deduct)\n",
        "\n",
        "  print(\"        PAYSLIP        \")\n",
        "  print(\"Employee Name= \",empname)\n",
        "  print(\"Employee Code= \",code)\n",
        "  print(\"Employee basic pay= \",bpay) \n",
        "  print(\"Employee DA= \",da) \n",
        "  print(\"Employee HRA= \",hra)\n",
        "  print(\"Employee MA= \",ma)\n",
        "  print(\"Employee PT= \",pt)\n",
        "  print(\"Employee pf= \",pf)\n",
        "  print(\"Employee IT= \",it)\n",
        "  print(\"Employee Gross Salary= \",gross_salary)\n",
        "  print(\"Employee Deduction= \",deduct)\n",
        "  print(\"Employee Net Salary= \",net_salary)\n",
        "\n",
        "employee_name=str(input(\"Enter the Employee Name=\"))\n",
        "code=int(input(\"Enter your Code=\"))\n",
        "basic_pay=int(input(\"Enter your Basic Pay=\"))\n",
        "payslip(employee_name,code,basic_pay)\n",
        "\n"
      ]
    },
    {
      "cell_type": "code",
      "execution_count": null,
      "metadata": {
        "colab": {
          "base_uri": "https://localhost:8080/"
        },
        "id": "J8V_w8y1vaph",
        "outputId": "d0102831-7d82-45ab-ca2f-3be5ebe8526d"
      },
      "outputs": [
        {
          "output_type": "stream",
          "name": "stdout",
          "text": [
            "enter a number= 10\n",
            "the number is happy!\n",
            "enter a lower limits= 90\n",
            "enter an upper limit= 100\n",
            "91\n",
            "94\n",
            "97\n",
            "100\n",
            "enter a no 'n' for generating n happy nos= 3\n",
            "1  \n",
            "7  \n",
            "10  \n"
          ]
        }
      ],
      "source": [
        "# happy number\n",
        "def happy_or_not(x):\n",
        "  for i in range(100):\n",
        "    out=0\n",
        "    while x>0:\n",
        "      r=x%10\n",
        "      out=out+(r*r)\n",
        "      x=x//10\n",
        "      \n",
        "    if out==1:\n",
        "      result=1\n",
        "      break\n",
        "    else:\n",
        "      result=0\n",
        "      x=out\n",
        "  return result\n",
        "\n",
        "def generate_happy_nos(l,u):\n",
        "  for i in range(l,u+1):\n",
        "    x=happy_or_not(i)\n",
        "    if x==1:\n",
        "      print(i)\n",
        "\n",
        "def first_n_happynos(x):\n",
        "  i=0;\n",
        "  while x>0:\n",
        "    res=happy_or_not(i)\n",
        "    if res==1:\n",
        "      print(i,\" \")\n",
        "      x=x-1\n",
        "    i=i+1\n",
        "\n",
        "\n",
        "\n",
        "num=int(input(\"enter a number= \"))\n",
        "result=happy_or_not(num)\n",
        "if result==1:\n",
        "  print(\"the number is happy!\")\n",
        "elif result==0:\n",
        "  print(\"the number is sad\")\n",
        "\n",
        "lower=int(input(\"enter a lower limits= \"))\n",
        "upper=int(input(\"enter an upper limit= \"))\n",
        "generate_happy_nos(lower,upper)\n",
        "\n",
        "n=int(input(\"enter a no 'n' for generating n happy nos= \"))\n",
        "first_n_happynos(n)\n"
      ]
    },
    {
      "cell_type": "code",
      "source": [
        "# 5\n",
        "def all_substrings(s):\n",
        "    substrings = []\n",
        "    for i in range(len(s)):\n",
        "        for j in range(i+1, len(s)+1):\n",
        "            substrings.append(s[i:j])\n",
        "    return substrings\n",
        "\n",
        "def substrings_of_length_k(s, k):\n",
        "    substrings = []\n",
        "    for i in range(len(s)-k+1):\n",
        "        substrings.append(s[i:i+k])\n",
        "    return substrings\n",
        "\n",
        "def substrings_of_length_k_with_n_distinct_chars(s, k, n):\n",
        "    substrings = []\n",
        "    for i in range(len(s)-k+1):\n",
        "        substring = s[i:i+k]\n",
        "        if len(set(substring)) == n:\n",
        "            substrings.append(substring)\n",
        "    return substrings\n",
        "\n",
        "def max_length_substring_with_n_distinct_chars(s, n):\n",
        "    substrings = []\n",
        "    for k in range(n, len(s)+1):\n",
        "        for i in range(len(s)-k+1):\n",
        "            substring = s[i:i+k]\n",
        "            if len(set(substring)) == n:\n",
        "                substrings.append(substring)\n",
        "        if not substrings:\n",
        "            break\n",
        "    return substrings\n",
        "\n",
        "def palindrome_substrings(s):\n",
        "    substrings = []\n",
        "    for i in range(len(s)):\n",
        "        for j in range(i+1, len(s)+1):\n",
        "            substring = s[i:j]\n",
        "            if substring == substring[::-1]:\n",
        "                substrings.append(substring)\n",
        "    return substrings\n",
        "\n",
        "\n",
        "s = \"hello\"\n",
        "print(all_substrings(s))\n",
        "print(substrings_of_length_k(s, 3))\n",
        "print(substrings_of_length_k_with_n_distinct_chars(s, 3, 2))\n",
        "print(max_length_substring_with_n_distinct_chars(s, 3))\n",
        "print(palindrome_substrings(s))\n"
      ],
      "metadata": {
        "id": "l3IcQ_zNJ5Sg",
        "colab": {
          "base_uri": "https://localhost:8080/"
        },
        "outputId": "a5a6bd8f-071d-4cf5-f787-11787122a11a"
      },
      "execution_count": null,
      "outputs": [
        {
          "output_type": "stream",
          "name": "stdout",
          "text": [
            "['h', 'he', 'hel', 'hell', 'hello', 'e', 'el', 'ell', 'ello', 'l', 'll', 'llo', 'l', 'lo', 'o']\n",
            "['hel', 'ell', 'llo']\n",
            "['ell', 'llo']\n",
            "['hel', 'hell', 'ello']\n",
            "['h', 'e', 'l', 'll', 'l', 'o']\n"
          ]
        }
      ]
    },
    {
      "cell_type": "code",
      "source": [
        "#LAB CYCLE 2\n",
        "#"
      ],
      "metadata": {
        "id": "M_A_8zJctD-Y"
      },
      "execution_count": null,
      "outputs": []
    }
  ],
  "metadata": {
    "colab": {
      "provenance": [],
      "authorship_tag": "ABX9TyOPZSbsyTudsKIcwcxJ7agC",
      "include_colab_link": true
    },
    "kernelspec": {
      "display_name": "Python 3",
      "name": "python3"
    },
    "language_info": {
      "name": "python"
    }
  },
  "nbformat": 4,
  "nbformat_minor": 0
}